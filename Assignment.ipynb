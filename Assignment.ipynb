{
 "cells": [
  {
   "cell_type": "code",
   "execution_count": 1,
   "id": "1d981588-b786-4698-9345-edb91ff1cb6d",
   "metadata": {
    "tags": []
   },
   "outputs": [],
   "source": [
    "import plotly.graph_objects as go\n",
    "import pandas as pd"
   ]
  },
  {
   "cell_type": "code",
   "execution_count": 2,
   "id": "b853e1e8-8443-4f09-b11f-cded0ec969d1",
   "metadata": {
    "tags": []
   },
   "outputs": [],
   "source": [
    "df = pd.read_pickle(r\"shared/Motor_Vehicle_Collisions_-_Crashes.pkl\")"
   ]
  },
  {
   "cell_type": "code",
   "execution_count": 3,
   "id": "7c0b6482-7013-40c1-86b5-ba4eb951f9db",
   "metadata": {
    "tags": []
   },
   "outputs": [
    {
     "data": {
      "text/html": [
       "<div>\n",
       "<style scoped>\n",
       "    .dataframe tbody tr th:only-of-type {\n",
       "        vertical-align: middle;\n",
       "    }\n",
       "\n",
       "    .dataframe tbody tr th {\n",
       "        vertical-align: top;\n",
       "    }\n",
       "\n",
       "    .dataframe thead th {\n",
       "        text-align: right;\n",
       "    }\n",
       "</style>\n",
       "<table border=\"1\" class=\"dataframe\">\n",
       "  <thead>\n",
       "    <tr style=\"text-align: right;\">\n",
       "      <th></th>\n",
       "      <th>CRASH DATE_CRASH TIME</th>\n",
       "      <th>BOROUGH</th>\n",
       "      <th>ZIP CODE</th>\n",
       "      <th>LATITUDE</th>\n",
       "      <th>LONGITUDE</th>\n",
       "      <th>LOCATION</th>\n",
       "      <th>ON STREET NAME</th>\n",
       "      <th>CROSS STREET NAME</th>\n",
       "      <th>OFF STREET NAME</th>\n",
       "      <th>NUMBER OF PERSONS INJURED</th>\n",
       "      <th>...</th>\n",
       "      <th>CONTRIBUTING FACTOR VEHICLE 2</th>\n",
       "      <th>CONTRIBUTING FACTOR VEHICLE 3</th>\n",
       "      <th>CONTRIBUTING FACTOR VEHICLE 4</th>\n",
       "      <th>CONTRIBUTING FACTOR VEHICLE 5</th>\n",
       "      <th>COLLISION_ID</th>\n",
       "      <th>VEHICLE TYPE CODE 1</th>\n",
       "      <th>VEHICLE TYPE CODE 2</th>\n",
       "      <th>VEHICLE TYPE CODE 3</th>\n",
       "      <th>VEHICLE TYPE CODE 4</th>\n",
       "      <th>VEHICLE TYPE CODE 5</th>\n",
       "    </tr>\n",
       "  </thead>\n",
       "  <tbody>\n",
       "    <tr>\n",
       "      <th>0</th>\n",
       "      <td>2021-09-11 02:39:00</td>\n",
       "      <td>NaN</td>\n",
       "      <td>NaN</td>\n",
       "      <td>NaN</td>\n",
       "      <td>NaN</td>\n",
       "      <td>NaN</td>\n",
       "      <td>WHITESTONE EXPRESSWAY</td>\n",
       "      <td>20 AVENUE</td>\n",
       "      <td>NaN</td>\n",
       "      <td>2.0</td>\n",
       "      <td>...</td>\n",
       "      <td>Unspecified</td>\n",
       "      <td>NaN</td>\n",
       "      <td>NaN</td>\n",
       "      <td>NaN</td>\n",
       "      <td>4455765</td>\n",
       "      <td>Sedan</td>\n",
       "      <td>Sedan</td>\n",
       "      <td>NaN</td>\n",
       "      <td>NaN</td>\n",
       "      <td>NaN</td>\n",
       "    </tr>\n",
       "    <tr>\n",
       "      <th>1</th>\n",
       "      <td>2022-03-26 11:45:00</td>\n",
       "      <td>NaN</td>\n",
       "      <td>NaN</td>\n",
       "      <td>NaN</td>\n",
       "      <td>NaN</td>\n",
       "      <td>NaN</td>\n",
       "      <td>QUEENSBORO BRIDGE UPPER</td>\n",
       "      <td>NaN</td>\n",
       "      <td>NaN</td>\n",
       "      <td>1.0</td>\n",
       "      <td>...</td>\n",
       "      <td>NaN</td>\n",
       "      <td>NaN</td>\n",
       "      <td>NaN</td>\n",
       "      <td>NaN</td>\n",
       "      <td>4513547</td>\n",
       "      <td>Sedan</td>\n",
       "      <td>NaN</td>\n",
       "      <td>NaN</td>\n",
       "      <td>NaN</td>\n",
       "      <td>NaN</td>\n",
       "    </tr>\n",
       "    <tr>\n",
       "      <th>2</th>\n",
       "      <td>2022-06-29 06:55:00</td>\n",
       "      <td>NaN</td>\n",
       "      <td>NaN</td>\n",
       "      <td>NaN</td>\n",
       "      <td>NaN</td>\n",
       "      <td>NaN</td>\n",
       "      <td>THROGS NECK BRIDGE</td>\n",
       "      <td>NaN</td>\n",
       "      <td>NaN</td>\n",
       "      <td>0.0</td>\n",
       "      <td>...</td>\n",
       "      <td>Unspecified</td>\n",
       "      <td>NaN</td>\n",
       "      <td>NaN</td>\n",
       "      <td>NaN</td>\n",
       "      <td>4541903</td>\n",
       "      <td>Sedan</td>\n",
       "      <td>Pick-up Truck</td>\n",
       "      <td>NaN</td>\n",
       "      <td>NaN</td>\n",
       "      <td>NaN</td>\n",
       "    </tr>\n",
       "    <tr>\n",
       "      <th>3</th>\n",
       "      <td>2021-09-11 09:35:00</td>\n",
       "      <td>BROOKLYN</td>\n",
       "      <td>11208.0</td>\n",
       "      <td>40.667202</td>\n",
       "      <td>-73.866500</td>\n",
       "      <td>(40.667202, -73.8665)</td>\n",
       "      <td>NaN</td>\n",
       "      <td>NaN</td>\n",
       "      <td>1211      LORING AVENUE</td>\n",
       "      <td>0.0</td>\n",
       "      <td>...</td>\n",
       "      <td>NaN</td>\n",
       "      <td>NaN</td>\n",
       "      <td>NaN</td>\n",
       "      <td>NaN</td>\n",
       "      <td>4456314</td>\n",
       "      <td>Sedan</td>\n",
       "      <td>NaN</td>\n",
       "      <td>NaN</td>\n",
       "      <td>NaN</td>\n",
       "      <td>NaN</td>\n",
       "    </tr>\n",
       "    <tr>\n",
       "      <th>4</th>\n",
       "      <td>2021-12-14 08:13:00</td>\n",
       "      <td>BROOKLYN</td>\n",
       "      <td>11233.0</td>\n",
       "      <td>40.683304</td>\n",
       "      <td>-73.917274</td>\n",
       "      <td>(40.683304, -73.917274)</td>\n",
       "      <td>SARATOGA AVENUE</td>\n",
       "      <td>DECATUR STREET</td>\n",
       "      <td>NaN</td>\n",
       "      <td>0.0</td>\n",
       "      <td>...</td>\n",
       "      <td>NaN</td>\n",
       "      <td>NaN</td>\n",
       "      <td>NaN</td>\n",
       "      <td>NaN</td>\n",
       "      <td>4486609</td>\n",
       "      <td>NaN</td>\n",
       "      <td>NaN</td>\n",
       "      <td>NaN</td>\n",
       "      <td>NaN</td>\n",
       "      <td>NaN</td>\n",
       "    </tr>\n",
       "    <tr>\n",
       "      <th>...</th>\n",
       "      <td>...</td>\n",
       "      <td>...</td>\n",
       "      <td>...</td>\n",
       "      <td>...</td>\n",
       "      <td>...</td>\n",
       "      <td>...</td>\n",
       "      <td>...</td>\n",
       "      <td>...</td>\n",
       "      <td>...</td>\n",
       "      <td>...</td>\n",
       "      <td>...</td>\n",
       "      <td>...</td>\n",
       "      <td>...</td>\n",
       "      <td>...</td>\n",
       "      <td>...</td>\n",
       "      <td>...</td>\n",
       "      <td>...</td>\n",
       "      <td>...</td>\n",
       "      <td>...</td>\n",
       "      <td>...</td>\n",
       "      <td>...</td>\n",
       "    </tr>\n",
       "    <tr>\n",
       "      <th>2018240</th>\n",
       "      <td>2023-07-03 18:05:00</td>\n",
       "      <td>NaN</td>\n",
       "      <td>NaN</td>\n",
       "      <td>40.866806</td>\n",
       "      <td>-73.931010</td>\n",
       "      <td>(40.866806, -73.93101)</td>\n",
       "      <td>RIVERSIDE DRIVE</td>\n",
       "      <td>NaN</td>\n",
       "      <td>NaN</td>\n",
       "      <td>0.0</td>\n",
       "      <td>...</td>\n",
       "      <td>Unspecified</td>\n",
       "      <td>NaN</td>\n",
       "      <td>NaN</td>\n",
       "      <td>NaN</td>\n",
       "      <td>4648110</td>\n",
       "      <td>Sedan</td>\n",
       "      <td>Sedan</td>\n",
       "      <td>NaN</td>\n",
       "      <td>NaN</td>\n",
       "      <td>NaN</td>\n",
       "    </tr>\n",
       "    <tr>\n",
       "      <th>2018241</th>\n",
       "      <td>2023-07-22 21:39:00</td>\n",
       "      <td>BRONX</td>\n",
       "      <td>10457.0</td>\n",
       "      <td>40.844177</td>\n",
       "      <td>-73.902920</td>\n",
       "      <td>(40.844177, -73.90292)</td>\n",
       "      <td>EAST 174 STREET</td>\n",
       "      <td>WEBSTER AVENUE</td>\n",
       "      <td>NaN</td>\n",
       "      <td>1.0</td>\n",
       "      <td>...</td>\n",
       "      <td>NaN</td>\n",
       "      <td>NaN</td>\n",
       "      <td>NaN</td>\n",
       "      <td>NaN</td>\n",
       "      <td>4648117</td>\n",
       "      <td>Sedan</td>\n",
       "      <td>NaN</td>\n",
       "      <td>NaN</td>\n",
       "      <td>NaN</td>\n",
       "      <td>NaN</td>\n",
       "    </tr>\n",
       "    <tr>\n",
       "      <th>2018242</th>\n",
       "      <td>2023-07-02 17:55:00</td>\n",
       "      <td>MANHATTAN</td>\n",
       "      <td>10006.0</td>\n",
       "      <td>40.711033</td>\n",
       "      <td>-74.014540</td>\n",
       "      <td>(40.711033, -74.01454)</td>\n",
       "      <td>WEST STREET</td>\n",
       "      <td>LIBERTY STREET</td>\n",
       "      <td>NaN</td>\n",
       "      <td>0.0</td>\n",
       "      <td>...</td>\n",
       "      <td>NaN</td>\n",
       "      <td>NaN</td>\n",
       "      <td>NaN</td>\n",
       "      <td>NaN</td>\n",
       "      <td>4648366</td>\n",
       "      <td>Taxi</td>\n",
       "      <td>NaN</td>\n",
       "      <td>NaN</td>\n",
       "      <td>NaN</td>\n",
       "      <td>NaN</td>\n",
       "    </tr>\n",
       "    <tr>\n",
       "      <th>2018243</th>\n",
       "      <td>2023-07-22 13:15:00</td>\n",
       "      <td>QUEENS</td>\n",
       "      <td>11433.0</td>\n",
       "      <td>40.691580</td>\n",
       "      <td>-73.793190</td>\n",
       "      <td>(40.69158, -73.79319)</td>\n",
       "      <td>110 AVENUE</td>\n",
       "      <td>157 STREET</td>\n",
       "      <td>NaN</td>\n",
       "      <td>1.0</td>\n",
       "      <td>...</td>\n",
       "      <td>Driver Inattention/Distraction</td>\n",
       "      <td>NaN</td>\n",
       "      <td>NaN</td>\n",
       "      <td>NaN</td>\n",
       "      <td>4648129</td>\n",
       "      <td>Station Wagon/Sport Utility Vehicle</td>\n",
       "      <td>E-Bike</td>\n",
       "      <td>NaN</td>\n",
       "      <td>NaN</td>\n",
       "      <td>NaN</td>\n",
       "    </tr>\n",
       "    <tr>\n",
       "      <th>2018244</th>\n",
       "      <td>2023-07-22 03:00:00</td>\n",
       "      <td>QUEENS</td>\n",
       "      <td>11433.0</td>\n",
       "      <td>40.700240</td>\n",
       "      <td>-73.792854</td>\n",
       "      <td>(40.70024, -73.792854)</td>\n",
       "      <td>SOUTH ROAD</td>\n",
       "      <td>164 STREET</td>\n",
       "      <td>NaN</td>\n",
       "      <td>0.0</td>\n",
       "      <td>...</td>\n",
       "      <td>NaN</td>\n",
       "      <td>NaN</td>\n",
       "      <td>NaN</td>\n",
       "      <td>NaN</td>\n",
       "      <td>4647913</td>\n",
       "      <td>Sedan</td>\n",
       "      <td>NaN</td>\n",
       "      <td>NaN</td>\n",
       "      <td>NaN</td>\n",
       "      <td>NaN</td>\n",
       "    </tr>\n",
       "  </tbody>\n",
       "</table>\n",
       "<p>2018245 rows × 28 columns</p>\n",
       "</div>"
      ],
      "text/plain": [
       "        CRASH DATE_CRASH TIME    BOROUGH ZIP CODE   LATITUDE  LONGITUDE  \\\n",
       "0         2021-09-11 02:39:00        NaN      NaN        NaN        NaN   \n",
       "1         2022-03-26 11:45:00        NaN      NaN        NaN        NaN   \n",
       "2         2022-06-29 06:55:00        NaN      NaN        NaN        NaN   \n",
       "3         2021-09-11 09:35:00   BROOKLYN  11208.0  40.667202 -73.866500   \n",
       "4         2021-12-14 08:13:00   BROOKLYN  11233.0  40.683304 -73.917274   \n",
       "...                       ...        ...      ...        ...        ...   \n",
       "2018240   2023-07-03 18:05:00        NaN      NaN  40.866806 -73.931010   \n",
       "2018241   2023-07-22 21:39:00      BRONX  10457.0  40.844177 -73.902920   \n",
       "2018242   2023-07-02 17:55:00  MANHATTAN  10006.0  40.711033 -74.014540   \n",
       "2018243   2023-07-22 13:15:00     QUEENS  11433.0  40.691580 -73.793190   \n",
       "2018244   2023-07-22 03:00:00     QUEENS  11433.0  40.700240 -73.792854   \n",
       "\n",
       "                        LOCATION           ON STREET NAME CROSS STREET NAME  \\\n",
       "0                            NaN    WHITESTONE EXPRESSWAY         20 AVENUE   \n",
       "1                            NaN  QUEENSBORO BRIDGE UPPER               NaN   \n",
       "2                            NaN       THROGS NECK BRIDGE               NaN   \n",
       "3          (40.667202, -73.8665)                      NaN               NaN   \n",
       "4        (40.683304, -73.917274)          SARATOGA AVENUE    DECATUR STREET   \n",
       "...                          ...                      ...               ...   \n",
       "2018240   (40.866806, -73.93101)          RIVERSIDE DRIVE               NaN   \n",
       "2018241   (40.844177, -73.90292)          EAST 174 STREET    WEBSTER AVENUE   \n",
       "2018242   (40.711033, -74.01454)              WEST STREET    LIBERTY STREET   \n",
       "2018243    (40.69158, -73.79319)               110 AVENUE        157 STREET   \n",
       "2018244   (40.70024, -73.792854)               SOUTH ROAD        164 STREET   \n",
       "\n",
       "                 OFF STREET NAME  NUMBER OF PERSONS INJURED  ...  \\\n",
       "0                            NaN                        2.0  ...   \n",
       "1                            NaN                        1.0  ...   \n",
       "2                            NaN                        0.0  ...   \n",
       "3        1211      LORING AVENUE                        0.0  ...   \n",
       "4                            NaN                        0.0  ...   \n",
       "...                          ...                        ...  ...   \n",
       "2018240                      NaN                        0.0  ...   \n",
       "2018241                      NaN                        1.0  ...   \n",
       "2018242                      NaN                        0.0  ...   \n",
       "2018243                      NaN                        1.0  ...   \n",
       "2018244                      NaN                        0.0  ...   \n",
       "\n",
       "          CONTRIBUTING FACTOR VEHICLE 2  CONTRIBUTING FACTOR VEHICLE 3  \\\n",
       "0                           Unspecified                            NaN   \n",
       "1                                   NaN                            NaN   \n",
       "2                           Unspecified                            NaN   \n",
       "3                                   NaN                            NaN   \n",
       "4                                   NaN                            NaN   \n",
       "...                                 ...                            ...   \n",
       "2018240                     Unspecified                            NaN   \n",
       "2018241                             NaN                            NaN   \n",
       "2018242                             NaN                            NaN   \n",
       "2018243  Driver Inattention/Distraction                            NaN   \n",
       "2018244                             NaN                            NaN   \n",
       "\n",
       "         CONTRIBUTING FACTOR VEHICLE 4  CONTRIBUTING FACTOR VEHICLE 5  \\\n",
       "0                                  NaN                            NaN   \n",
       "1                                  NaN                            NaN   \n",
       "2                                  NaN                            NaN   \n",
       "3                                  NaN                            NaN   \n",
       "4                                  NaN                            NaN   \n",
       "...                                ...                            ...   \n",
       "2018240                            NaN                            NaN   \n",
       "2018241                            NaN                            NaN   \n",
       "2018242                            NaN                            NaN   \n",
       "2018243                            NaN                            NaN   \n",
       "2018244                            NaN                            NaN   \n",
       "\n",
       "         COLLISION_ID                  VEHICLE TYPE CODE 1  \\\n",
       "0             4455765                                Sedan   \n",
       "1             4513547                                Sedan   \n",
       "2             4541903                                Sedan   \n",
       "3             4456314                                Sedan   \n",
       "4             4486609                                  NaN   \n",
       "...               ...                                  ...   \n",
       "2018240       4648110                                Sedan   \n",
       "2018241       4648117                                Sedan   \n",
       "2018242       4648366                                 Taxi   \n",
       "2018243       4648129  Station Wagon/Sport Utility Vehicle   \n",
       "2018244       4647913                                Sedan   \n",
       "\n",
       "         VEHICLE TYPE CODE 2 VEHICLE TYPE CODE 3 VEHICLE TYPE CODE 4  \\\n",
       "0                      Sedan                 NaN                 NaN   \n",
       "1                        NaN                 NaN                 NaN   \n",
       "2              Pick-up Truck                 NaN                 NaN   \n",
       "3                        NaN                 NaN                 NaN   \n",
       "4                        NaN                 NaN                 NaN   \n",
       "...                      ...                 ...                 ...   \n",
       "2018240                Sedan                 NaN                 NaN   \n",
       "2018241                  NaN                 NaN                 NaN   \n",
       "2018242                  NaN                 NaN                 NaN   \n",
       "2018243               E-Bike                 NaN                 NaN   \n",
       "2018244                  NaN                 NaN                 NaN   \n",
       "\n",
       "        VEHICLE TYPE CODE 5  \n",
       "0                       NaN  \n",
       "1                       NaN  \n",
       "2                       NaN  \n",
       "3                       NaN  \n",
       "4                       NaN  \n",
       "...                     ...  \n",
       "2018240                 NaN  \n",
       "2018241                 NaN  \n",
       "2018242                 NaN  \n",
       "2018243                 NaN  \n",
       "2018244                 NaN  \n",
       "\n",
       "[2018245 rows x 28 columns]"
      ]
     },
     "execution_count": 3,
     "metadata": {},
     "output_type": "execute_result"
    }
   ],
   "source": [
    "df"
   ]
  },
  {
   "cell_type": "code",
   "execution_count": 4,
   "id": "369700da-7013-469d-bb2d-e3392dda34f8",
   "metadata": {
    "tags": []
   },
   "outputs": [
    {
     "name": "stdout",
     "output_type": "stream",
     "text": [
      "CRASH DATE_CRASH TIME            datetime64[ns]\n",
      "BOROUGH                                  object\n",
      "ZIP CODE                                 object\n",
      "LATITUDE                                float64\n",
      "LONGITUDE                               float64\n",
      "LOCATION                                 object\n",
      "ON STREET NAME                           object\n",
      "CROSS STREET NAME                        object\n",
      "OFF STREET NAME                          object\n",
      "NUMBER OF PERSONS INJURED               float64\n",
      "NUMBER OF PERSONS KILLED                float64\n",
      "NUMBER OF PEDESTRIANS INJURED             int64\n",
      "NUMBER OF PEDESTRIANS KILLED              int64\n",
      "NUMBER OF CYCLIST INJURED                 int64\n",
      "NUMBER OF CYCLIST KILLED                  int64\n",
      "NUMBER OF MOTORIST INJURED                int64\n",
      "NUMBER OF MOTORIST KILLED                 int64\n",
      "CONTRIBUTING FACTOR VEHICLE 1            object\n",
      "CONTRIBUTING FACTOR VEHICLE 2            object\n",
      "CONTRIBUTING FACTOR VEHICLE 3            object\n",
      "CONTRIBUTING FACTOR VEHICLE 4            object\n",
      "CONTRIBUTING FACTOR VEHICLE 5            object\n",
      "COLLISION_ID                              int64\n",
      "VEHICLE TYPE CODE 1                      object\n",
      "VEHICLE TYPE CODE 2                      object\n",
      "VEHICLE TYPE CODE 3                      object\n",
      "VEHICLE TYPE CODE 4                      object\n",
      "VEHICLE TYPE CODE 5                      object\n",
      "dtype: object\n"
     ]
    }
   ],
   "source": [
    "data_types = df.dtypes\n",
    "print(data_types)"
   ]
  },
  {
   "cell_type": "code",
   "execution_count": 5,
   "id": "71104652-8dca-4a33-8e59-814585b9ed7f",
   "metadata": {
    "tags": []
   },
   "outputs": [
    {
     "name": "stdout",
     "output_type": "stream",
     "text": [
      "        CRASH DATE_CRASH TIME Simple Date\n",
      "0         2021-09-11 02:39:00  2021-09-11\n",
      "1         2022-03-26 11:45:00  2022-03-26\n",
      "2         2022-06-29 06:55:00  2022-06-29\n",
      "3         2021-09-11 09:35:00  2021-09-11\n",
      "4         2021-12-14 08:13:00  2021-12-14\n",
      "...                       ...         ...\n",
      "2018240   2023-07-03 18:05:00  2023-07-03\n",
      "2018241   2023-07-22 21:39:00  2023-07-22\n",
      "2018242   2023-07-02 17:55:00  2023-07-02\n",
      "2018243   2023-07-22 13:15:00  2023-07-22\n",
      "2018244   2023-07-22 03:00:00  2023-07-22\n",
      "\n",
      "[2018245 rows x 2 columns]\n",
      "****************************************************\n"
     ]
    }
   ],
   "source": [
    "df['Simple Date'] = pd.to_datetime(df['CRASH DATE_CRASH TIME'])\n",
    "\n",
    "df['Simple Date'] = df['Simple Date'].dt.strftime('%Y-%m-%d')\n",
    "\n",
    "df['Simple Date'] = pd.to_datetime(df['Simple Date'])\n",
    "\n",
    "print(df[['CRASH DATE_CRASH TIME', 'Simple Date']])\n",
    "print(\"****************************************************\")"
   ]
  },
  {
   "cell_type": "code",
   "execution_count": 6,
   "id": "f39591ea-e349-4789-a2ff-96f5879a1446",
   "metadata": {
    "tags": []
   },
   "outputs": [
    {
     "name": "stdout",
     "output_type": "stream",
     "text": [
      "CRASH DATE_CRASH TIME            datetime64[ns]\n",
      "BOROUGH                                  object\n",
      "ZIP CODE                                 object\n",
      "LATITUDE                                float64\n",
      "LONGITUDE                               float64\n",
      "LOCATION                                 object\n",
      "ON STREET NAME                           object\n",
      "CROSS STREET NAME                        object\n",
      "OFF STREET NAME                          object\n",
      "NUMBER OF PERSONS INJURED               float64\n",
      "NUMBER OF PERSONS KILLED                float64\n",
      "NUMBER OF PEDESTRIANS INJURED             int64\n",
      "NUMBER OF PEDESTRIANS KILLED              int64\n",
      "NUMBER OF CYCLIST INJURED                 int64\n",
      "NUMBER OF CYCLIST KILLED                  int64\n",
      "NUMBER OF MOTORIST INJURED                int64\n",
      "NUMBER OF MOTORIST KILLED                 int64\n",
      "CONTRIBUTING FACTOR VEHICLE 1            object\n",
      "CONTRIBUTING FACTOR VEHICLE 2            object\n",
      "CONTRIBUTING FACTOR VEHICLE 3            object\n",
      "CONTRIBUTING FACTOR VEHICLE 4            object\n",
      "CONTRIBUTING FACTOR VEHICLE 5            object\n",
      "COLLISION_ID                              int64\n",
      "VEHICLE TYPE CODE 1                      object\n",
      "VEHICLE TYPE CODE 2                      object\n",
      "VEHICLE TYPE CODE 3                      object\n",
      "VEHICLE TYPE CODE 4                      object\n",
      "VEHICLE TYPE CODE 5                      object\n",
      "Simple Date                      datetime64[ns]\n",
      "dtype: object\n",
      "****************************************************\n"
     ]
    }
   ],
   "source": [
    "data_types = df.dtypes\n",
    "print(data_types)\n",
    "print(\"****************************************************\")"
   ]
  },
  {
   "cell_type": "code",
   "execution_count": 7,
   "id": "ae15fd80-7afe-4001-9121-c4e78197e37a",
   "metadata": {
    "tags": []
   },
   "outputs": [
    {
     "name": "stdout",
     "output_type": "stream",
     "text": [
      "****************************************************\n"
     ]
    }
   ],
   "source": [
    "df_sorted = df.sort_values(by='Simple Date')\n",
    "df_sorted\n",
    "print(\"****************************************************\")"
   ]
  },
  {
   "cell_type": "code",
   "execution_count": 8,
   "id": "6cc19ee8-785d-4885-8a6f-6be8042e1b1f",
   "metadata": {
    "tags": []
   },
   "outputs": [
    {
     "name": "stdout",
     "output_type": "stream",
     "text": [
      "****************************************************\n"
     ]
    }
   ],
   "source": [
    "df_since_2012 = df[df['Simple Date'].dt.year >= 2012]\n",
    "\n",
    "df_since_2012 = df_since_2012.dropna(subset=['BOROUGH'])\n",
    "df_since_2012\n",
    "print(\"****************************************************\")"
   ]
  },
  {
   "cell_type": "markdown",
   "id": "b10cb996-1bc9-4715-a7cb-987d4dc1cc4f",
   "metadata": {},
   "source": [
    "Which borough has had the highest total number of crashes reported since 2012? (Ignore missing values)"
   ]
  },
  {
   "cell_type": "code",
   "execution_count": 9,
   "id": "820ee79e-b1c8-488e-9dd5-b5cf7cf2ab2b",
   "metadata": {
    "tags": []
   },
   "outputs": [
    {
     "name": "stdout",
     "output_type": "stream",
     "text": [
      "The borough with the highest total number of crashes since 2012 is: BROOKLYN\n",
      "****************************************************\n"
     ]
    }
   ],
   "source": [
    "crashes_by_borough = df_since_2012['BOROUGH'].value_counts()\n",
    "\n",
    "highest_crashes_borough = crashes_by_borough.idxmax()\n",
    "\n",
    "print(f\"The borough with the highest total number of crashes since 2012 is: {highest_crashes_borough}\")\n",
    "print(\"****************************************************\")"
   ]
  },
  {
   "cell_type": "markdown",
   "id": "ceba7010-d2e0-4f75-9806-bfcfc9b543f2",
   "metadata": {},
   "source": [
    "We relate the number of crashes to to the borough's population to find out which borough has the maximum number of crashes for every 100,000 people. Even though the data does not have this information, we can combine the crash data with the population estimates for the boroughs also available from the City of New York's website (https://data.cityofnewyork.us/City-Government/New-York-City-Population-by-Borough-1950-2040/xywu-7bv9)\n",
    "\n",
    "Use the below population estimates for the question that follows:\n",
    "\n",
    "Borough - Population \n",
    "Bronx - 1446788 \n",
    "Brooklyn - 2648452 \n",
    "Manhattan - 1638281 \n",
    "Queens - 2330295 \n",
    "Staten Island - 487155 \n",
    "\n",
    "Considering the entire data set since July 2012, which borough has the most crashes for every 100,000 people? (hint: divide the total count of crashes by the population, and multiply by 100,000)"
   ]
  },
  {
   "cell_type": "code",
   "execution_count": 10,
   "id": "de02ae18-54f6-4c74-bc44-da8e268b2fba",
   "metadata": {
    "tags": []
   },
   "outputs": [
    {
     "name": "stdout",
     "output_type": "stream",
     "text": [
      "****************************************************\n"
     ]
    }
   ],
   "source": [
    "population_data = {\n",
    "    'Borough': ['Bronx', 'Brooklyn', 'Manhattan', 'Queens', 'Staten Island'],\n",
    "    'Population': [1446788, 2648452, 1638281, 2330295, 487155]\n",
    "}\n",
    "\n",
    "df_population = pd.DataFrame(population_data)\n",
    "df_population\n",
    "print(\"****************************************************\")"
   ]
  },
  {
   "cell_type": "code",
   "execution_count": 11,
   "id": "86ff9ae8-f453-4784-9931-bdf859771494",
   "metadata": {
    "tags": []
   },
   "outputs": [],
   "source": [
    "df['BOROUGH'] = df['BOROUGH'].str.strip()"
   ]
  },
  {
   "cell_type": "code",
   "execution_count": 12,
   "id": "020d00a3-408b-4020-8585-9f9511116a0c",
   "metadata": {
    "tags": []
   },
   "outputs": [
    {
     "name": "stdout",
     "output_type": "stream",
     "text": [
      "object\n",
      "object\n",
      "****************************************************\n"
     ]
    }
   ],
   "source": [
    "print(df['BOROUGH'].dtype)\n",
    "print(df_population['Borough'].dtype)\n",
    "print(\"****************************************************\")"
   ]
  },
  {
   "cell_type": "code",
   "execution_count": 13,
   "id": "7b9113d6-569c-4c5b-a85e-7fd5ba11ff1c",
   "metadata": {
    "tags": []
   },
   "outputs": [
    {
     "name": "stdout",
     "output_type": "stream",
     "text": [
      "****************************************************\n"
     ]
    }
   ],
   "source": [
    "df['BOROUGH'] = df['BOROUGH'].str.lower()\n",
    "df_population['Borough'] = df_population['Borough'].str.lower()\n",
    "print(\"****************************************************\")"
   ]
  },
  {
   "cell_type": "code",
   "execution_count": 14,
   "id": "374aa87b-5e38-4086-ada3-c88b1f40bf99",
   "metadata": {
    "tags": []
   },
   "outputs": [
    {
     "name": "stdout",
     "output_type": "stream",
     "text": [
      "****************************************************\n"
     ]
    }
   ],
   "source": [
    "df['BOROUGH'] = df['BOROUGH'].str.strip()\n",
    "\n",
    "df_merged = pd.merge(df, df_population, how='left', left_on='BOROUGH', right_on='Borough')\n",
    "\n",
    "df_merged = df_merged.dropna(subset=['BOROUGH'])\n",
    "\n",
    "df_merged\n",
    "print(\"****************************************************\")"
   ]
  },
  {
   "cell_type": "code",
   "execution_count": 15,
   "id": "7a0cf759-611b-4d86-9488-f97b2e88e042",
   "metadata": {
    "tags": []
   },
   "outputs": [
    {
     "name": "stdout",
     "output_type": "stream",
     "text": [
      "The borough with the highest crash rate per 100,000 people since July 2012 is: manhattan\n",
      "****************************************************\n"
     ]
    }
   ],
   "source": [
    "df_merged = df_merged.dropna(subset=['BOROUGH', 'Population'])\n",
    "\n",
    "crashes_by_borough = df_merged['BOROUGH'].value_counts()\n",
    "\n",
    "crash_rate_per_100k = (crashes_by_borough / df_population.set_index('Borough')['Population']) * 100000\n",
    "\n",
    "highest_crash_rate_borough = crash_rate_per_100k.idxmax()\n",
    "\n",
    "print(f\"The borough with the highest crash rate per 100,000 people since July 2012 is: {highest_crash_rate_borough}\")\n",
    "print(\"****************************************************\")"
   ]
  },
  {
   "cell_type": "code",
   "execution_count": 16,
   "id": "9415cc45-367f-4161-b606-a163c7284a4b",
   "metadata": {
    "tags": []
   },
   "outputs": [
    {
     "data": {
      "text/plain": [
       "bronx            14193.164444\n",
       "brooklyn         16652.217975\n",
       "manhattan        19121.628097\n",
       "queens           15983.255339\n",
       "staten island    11966.827806\n",
       "dtype: float64"
      ]
     },
     "execution_count": 16,
     "metadata": {},
     "output_type": "execute_result"
    }
   ],
   "source": [
    "crash_rate_per_100k"
   ]
  },
  {
   "cell_type": "markdown",
   "id": "deb59b0d-9a3e-47b8-b16d-31e3d9ef00f6",
   "metadata": {},
   "source": [
    "For a large proportion of the crashes, the 'contributing factor vehicle 1' is a missing value, indicated as 'Unspecified' in the data.\n",
    "\n",
    "Remove all rows where the contributing factor vehicle 1 is not known, leaving only the crashes where only this information is available.\n",
    "\n",
    "For this dataset, what is the leading cause of crashes (ignoring 'Unspecified') (use the field 'CONTRIBUTING FACTOR VEHICLE 1')?\n",
    "\n",
    "What proportion of accidents are attributable to this cause?"
   ]
  },
  {
   "cell_type": "markdown",
   "id": "d2d2a362-58a6-40dd-a973-b99cfa015e3e",
   "metadata": {},
   "source": [
    "1) Filter out rows where 'CONTRIBUTING FACTOR VEHICLE 1' is 'Unspecified'\n",
    "2) Count the occurrences of each contributing factor\n",
    "3) Get the leading cause of crashes\n",
    "4) Calculate the proportion of accidents attributable to the leading cause"
   ]
  },
  {
   "cell_type": "code",
   "execution_count": 17,
   "id": "a654d273-f357-48b8-b345-53b7e0e07933",
   "metadata": {
    "tags": []
   },
   "outputs": [
    {
     "name": "stdout",
     "output_type": "stream",
     "text": [
      "The leading cause of crashes (ignoring 'Unspecified') is: Driver Inattention/Distraction\n",
      "The proportion of accidents attributable to this cause is: 30.27%\n",
      "****************************************************\n"
     ]
    }
   ],
   "source": [
    "df_filtered = df[df['CONTRIBUTING FACTOR VEHICLE 1'] != 'Unspecified']\n",
    "\n",
    "contributing_factors_counts = df_filtered['CONTRIBUTING FACTOR VEHICLE 1'].value_counts()\n",
    "\n",
    "leading_cause = contributing_factors_counts.idxmax()\n",
    "\n",
    "proportion_of_accidents = contributing_factors_counts[leading_cause] / len(df_filtered)\n",
    "\n",
    "print(f\"The leading cause of crashes (ignoring 'Unspecified') is: {leading_cause}\")\n",
    "print(f\"The proportion of accidents attributable to this cause is: {proportion_of_accidents:.2%}\")\n",
    "print(\"****************************************************\")"
   ]
  },
  {
   "cell_type": "markdown",
   "id": "249a3ceb-eee2-4c4e-a77a-2aaccd029f8a",
   "metadata": {},
   "source": [
    "Continuing from the previous question - the top 3 causes of crashes (ignoring 'Unspecified') account for what proportion of total crashes?"
   ]
  },
  {
   "cell_type": "markdown",
   "id": "c633e7d1-9bbf-4307-84b9-ce491b6a6f43",
   "metadata": {
    "tags": []
   },
   "source": [
    "1) Filter out rows where 'CONTRIBUTING FACTOR VEHICLE 1' is 'Unspecified'\n",
    "2) Count the occurrences of each contributing factor\n",
    "3) Get the top 3 causes of crashes\n",
    "4) Calculate the proportion of total crashes for the top 3 causes"
   ]
  },
  {
   "cell_type": "code",
   "execution_count": 18,
   "id": "a59cdd2a-a79e-4c53-b9ef-1edff56f1c69",
   "metadata": {
    "tags": []
   },
   "outputs": [
    {
     "name": "stdout",
     "output_type": "stream",
     "text": [
      "The top 3 causes of crashes (ignoring 'Unspecified') are:\n",
      "CONTRIBUTING FACTOR VEHICLE 1\n",
      "Driver Inattention/Distraction    401262\n",
      "Failure to Yield Right-of-Way     119166\n",
      "Following Too Closely             107467\n",
      "Name: count, dtype: int64\n",
      "The proportion of total crashes attributable to the top 3 causes is: 47.37%\n",
      "****************************************************\n"
     ]
    }
   ],
   "source": [
    "df_filtered = df[df['CONTRIBUTING FACTOR VEHICLE 1'] != 'Unspecified']\n",
    "\n",
    "contributing_factors_counts = df_filtered['CONTRIBUTING FACTOR VEHICLE 1'].value_counts()\n",
    "\n",
    "top3_causes = contributing_factors_counts.head(3)\n",
    "\n",
    "proportion_of_total_crashes = top3_causes.sum() / len(df_filtered)\n",
    "\n",
    "print(f\"The top 3 causes of crashes (ignoring 'Unspecified') are:\\n{top3_causes}\")\n",
    "print(f\"The proportion of total crashes attributable to the top 3 causes is: {proportion_of_total_crashes:.2%}\")\n",
    "print(\"****************************************************\")"
   ]
  },
  {
   "cell_type": "markdown",
   "id": "2fd17868-16e5-47d1-ac44-5327904bb5ba",
   "metadata": {},
   "source": [
    "Considering the entire data since 2012 (and, if applicable, ignoring missing values), what is the total count of accidents that involved at least one fatality?"
   ]
  },
  {
   "cell_type": "markdown",
   "id": "33f6a4ac-7f63-4b35-96fb-976ac7cd0d43",
   "metadata": {},
   "source": [
    "1) Filter the rows where atleast one fatality occured \n",
    "2) Calculate the total count of accidents with atleast one fatality"
   ]
  },
  {
   "cell_type": "code",
   "execution_count": 19,
   "id": "7933f793-5473-4533-9f42-b817dbcc4907",
   "metadata": {
    "tags": []
   },
   "outputs": [
    {
     "name": "stdout",
     "output_type": "stream",
     "text": [
      "The total count of accidents with at least one fatality since 2012 is: 2804\n",
      "****************************************************\n"
     ]
    }
   ],
   "source": [
    "fatal_accidents = df[df['NUMBER OF PERSONS KILLED'] > 0]\n",
    "\n",
    "total_fatal_accidents = len(fatal_accidents)\n",
    "\n",
    "print(f\"The total count of accidents with at least one fatality since 2012 is: {total_fatal_accidents}\")\n",
    "print(\"****************************************************\")"
   ]
  },
  {
   "cell_type": "markdown",
   "id": "b6813abe-e250-470b-94ca-56288f542e45",
   "metadata": {},
   "source": [
    "On average, for every 1000 accidents, how many have resulted in at least one person dead? (hint: divide the count of accidents with 1 or more deaths with the total number of accidents, and multiply by 1000)"
   ]
  },
  {
   "cell_type": "markdown",
   "id": "2bb1c999-da0e-463f-8e61-c1974ff276a0",
   "metadata": {},
   "source": [
    "1) Count the total number of accidents\n",
    "2) Count the number of accidents with at least one fatality\n",
    "3) Calculate the average number of fatal accidents per 1000 accidents"
   ]
  },
  {
   "cell_type": "code",
   "execution_count": 20,
   "id": "fb349a56-9ba1-48de-bef8-ce6846d9973d",
   "metadata": {
    "tags": []
   },
   "outputs": [
    {
     "name": "stdout",
     "output_type": "stream",
     "text": [
      "On average, for every 1000 accidents, there are 1.39 accidents with at least one fatality.\n",
      "****************************************************\n"
     ]
    }
   ],
   "source": [
    "total_accidents = len(df)\n",
    "\n",
    "fatal_accidents = df[df['NUMBER OF PERSONS KILLED'] > 0]\n",
    "total_fatal_accidents = len(fatal_accidents)\n",
    "\n",
    "average_fatalities_per_1000 = (total_fatal_accidents / total_accidents) * 1000\n",
    "\n",
    "print(f\"On average, for every 1000 accidents, there are {average_fatalities_per_1000:.2f} accidents with at least one fatality.\")\n",
    "print(\"****************************************************\")"
   ]
  },
  {
   "cell_type": "markdown",
   "id": "c9eec4e0-1619-4464-bc2b-1e3ceca68db7",
   "metadata": {},
   "source": [
    "What proportion of accidents in the data do not have a Borough code?"
   ]
  },
  {
   "cell_type": "markdown",
   "id": "20f7946a-2492-493e-8575-cddd0a380c3b",
   "metadata": {},
   "source": [
    "1) Count the total number of accidents \n",
    "2) Count the number of accidents w/o a borough code\n",
    "3) Calculate the proportion of accidents w/o a borough code."
   ]
  },
  {
   "cell_type": "code",
   "execution_count": 21,
   "id": "a857811a-829d-441b-8285-662c0675f7f2",
   "metadata": {
    "tags": []
   },
   "outputs": [
    {
     "name": "stdout",
     "output_type": "stream",
     "text": [
      "The proportion of accidents without a Borough code is: 31.11%\n",
      "****************************************************\n"
     ]
    }
   ],
   "source": [
    "total_accidents = len(df)\n",
    "\n",
    "accidents_without_borough = df['BOROUGH'].isnull().sum()\n",
    "\n",
    "proportion_without_borough = accidents_without_borough / total_accidents\n",
    "\n",
    "print(f\"The proportion of accidents without a Borough code is: {proportion_without_borough:.2%}\")\n",
    "print(\"****************************************************\")"
   ]
  },
  {
   "cell_type": "markdown",
   "id": "77102d7a-7b17-497b-a367-c66f21cb7691",
   "metadata": {},
   "source": [
    "The fields 'VEHICLE TYPE CODE 1' and 'VEHICLE TYPE CODE 2' represent the first two vehicles involved in the accident. Which combination of vehicles have the most number of accidents?"
   ]
  },
  {
   "cell_type": "markdown",
   "id": "3d1bea34-902c-49b0-a63e-935e82d2afad",
   "metadata": {},
   "source": [
    "1) Combine DATA from 'Vehicle Type Code 1' and 'Vehicle Type Code 2'\n",
    "2) Find the most common combination of vehicles \n",
    "3) Get the count of accidents for the most common accident combination. "
   ]
  },
  {
   "cell_type": "code",
   "execution_count": 22,
   "id": "4f220fd6-1f67-47e2-9300-898a1e7ed191",
   "metadata": {
    "tags": []
   },
   "outputs": [
    {
     "name": "stdout",
     "output_type": "stream",
     "text": [
      "The combination of vehicles with the most number of accidents is: Sedan - Sedan\n",
      "The number of accidents for this combination is: 197944\n",
      "****************************************************\n"
     ]
    }
   ],
   "source": [
    "df['Vehicle Combination'] = df['VEHICLE TYPE CODE 1'].astype(str) + ' - ' + df['VEHICLE TYPE CODE 2'].astype(str)\n",
    "\n",
    "most_common_combination = df['Vehicle Combination'].value_counts().idxmax()\n",
    "\n",
    "most_common_count = df['Vehicle Combination'].value_counts().max()\n",
    "\n",
    "print(f\"The combination of vehicles with the most number of accidents is: {most_common_combination}\")\n",
    "print(f\"The number of accidents for this combination is: {most_common_count}\")\n",
    "print(\"****************************************************\")"
   ]
  }
 ],
 "metadata": {
  "kernelspec": {
   "display_name": "Python [conda env:mggy8413]",
   "language": "python",
   "name": "conda-env-mggy8413-py"
  },
  "language_info": {
   "codemirror_mode": {
    "name": "ipython",
    "version": 3
   },
   "file_extension": ".py",
   "mimetype": "text/x-python",
   "name": "python",
   "nbconvert_exporter": "python",
   "pygments_lexer": "ipython3",
   "version": "3.10.12"
  }
 },
 "nbformat": 4,
 "nbformat_minor": 5
}
